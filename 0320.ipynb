{
  "nbformat": 4,
  "nbformat_minor": 0,
  "metadata": {
    "colab": {
      "provenance": [],
      "authorship_tag": "ABX9TyN6PhOERa+zIw9MJyeRQzey",
      "include_colab_link": true
    },
    "kernelspec": {
      "name": "python3",
      "display_name": "Python 3"
    },
    "language_info": {
      "name": "python"
    }
  },
  "cells": [
    {
      "cell_type": "markdown",
      "metadata": {
        "id": "view-in-github",
        "colab_type": "text"
      },
      "source": [
        "<a href=\"https://colab.research.google.com/github/410820343/introduction-to-Computers/blob/main/0320.ipynb\" target=\"_parent\"><img src=\"https://colab.research.google.com/assets/colab-badge.svg\" alt=\"Open In Colab\"/></a>"
      ]
    },
    {
      "cell_type": "code",
      "execution_count": 1,
      "metadata": {
        "colab": {
          "base_uri": "https://localhost:8080/"
        },
        "id": "claLYiu4pYZa",
        "outputId": "db1f006c-a83e-42a9-8465-397e8264d92c"
      },
      "outputs": [
        {
          "output_type": "stream",
          "name": "stdout",
          "text": [
            "請輸入國文成績(整數):80\n",
            "請輸入英文成績(整數):90\n",
            "請輸入數學成績(整數):65\n",
            "你的總分為:235\n"
          ]
        }
      ],
      "source": [
        "chi=int(input(\"請輸入國文成績(整數):\"))\n",
        "eng=int(input(\"請輸入英文成績(整數):\"))\n",
        "math=int(input(\"請輸入數學成績(整數):\"))\n",
        "total=chi+eng+math\n",
        "print('你的總分為:%3d'%total)\n"
      ]
    },
    {
      "cell_type": "code",
      "execution_count": 2,
      "metadata": {
        "colab": {
          "base_uri": "https://localhost:8080/"
        },
        "id": "rkCWLjaXhSvd",
        "outputId": "d24b8719-1b61-460e-a18e-257ef1f36db7"
      },
      "outputs": [
        {
          "output_type": "stream",
          "name": "stdout",
          "text": [
            "請輸入梯形上底長度:30\n",
            "請輸入梯形下底長度:30\n",
            "請輸入梯形高度:5\n",
            "150.0\n"
          ]
        }
      ],
      "source": [
        "a=int(input(\"請輸入梯形上底長度:\"))\n",
        "b=int(input(\"請輸入梯形下底長度:\"))\n",
        "c=int(input(\"請輸入梯形高度:\"))\n",
        "area=(a+b)*c/2\n",
        "print(area)"
      ]
    },
    {
      "cell_type": "code",
      "source": [
        "height_cm=float(input(\"請輸入您的身高(cm):\"))\n",
        "weight=float(input('請輸入您的體重(KG)'))\n",
        "height_m=height_cm/100\n",
        "bmi=weight/(height_m**2)\n",
        "print(\"BMI為:%3.2f\"%bmi)"
      ],
      "metadata": {
        "colab": {
          "base_uri": "https://localhost:8080/"
        },
        "id": "dw0LwrD2xzUC",
        "outputId": "01d19285-f065-4e13-e300-6be63303a00d"
      },
      "execution_count": 3,
      "outputs": [
        {
          "output_type": "stream",
          "name": "stdout",
          "text": [
            "請輸入您的身高(cm):150\n",
            "請輸入您的體重(KG)43\n",
            "BMI為:19.11\n"
          ]
        }
      ]
    }
  ]
}